{
  "nbformat": 4,
  "nbformat_minor": 0,
  "metadata": {
    "colab": {
      "provenance": []
    },
    "kernelspec": {
      "name": "python3",
      "display_name": "Python 3"
    },
    "language_info": {
      "name": "python"
    }
  },
  "cells": [
    {
      "cell_type": "code",
      "execution_count": null,
      "metadata": {
        "id": "pFvW6RJ8g3Qd"
      },
      "outputs": [],
      "source": [
        "import pandas as pd\n",
        "import unittest\n",
        "\n",
        "def data_extraction(file_path):\n",
        "    data = pd.read_csv(file_path)\n",
        "    return data\n",
        "\n",
        "def data_transformation(data):\n",
        "    data = data.drop_duplicates()\n",
        "    data['billing_amount'] = data['billing_amount'].str.replace('$', '').astype(float)\n",
        "    data['total_charges'] = data['billing_amount'] + data['tax_amount']\n",
        "    return data\n",
        "\n",
        "def data_loading(data, output_file):\n",
        "    data.to_csv(output_file, index=False)\n",
        "\n",
        "class TestDataPipeline(unittest.TestCase):\n",
        "    def test_data_extraction(self):\n",
        "        test_file_name =  data_extraction('billing_data.csv')\n",
        "        try:\n",
        "            data = pd.read_csv(test_file_name,\n",
        "                sep = ',',\n",
        "                header = 0)\n",
        "        except IOError:\n",
        "            print('cannot open file')\n",
        "        self.fixture = data\n",
        "\n",
        "    def test_data_transformation(self):\n",
        "        data = data_transformation(data)\n",
        "        list_match = [\"customer_id\", \"billing_amount\", \"tax_amount\", \"total_charges\" ]\n",
        "        assert all([col in data.columns for col in list_match])\n",
        "\n",
        "    def test_data_loading(self):\n",
        "        test_file_name =  data_loading(output_file)\n",
        "        try:\n",
        "            data = pd.read_csv(test_file_name,\n",
        "                sep = ',',\n",
        "                header = 0)\n",
        "        except IOError:\n",
        "            print('cannot open file')\n",
        "        self.fixture = data\n",
        "\n",
        "if __name__ == '__main__':\n",
        "    unittest.main()"
      ]
    }
  ]
}